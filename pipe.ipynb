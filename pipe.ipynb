{
 "cells": [
  {
   "cell_type": "code",
   "execution_count": 32,
   "metadata": {
    "collapsed": true
   },
   "outputs": [],
   "source": [
    "import numpy as np\n",
    "import pandas as pd\n",
    "import scipy.io as sio\n",
    "import matplotlib.pyplot as plt\n",
    "%matplotlib inline"
   ]
  },
  {
   "cell_type": "code",
   "execution_count": 33,
   "metadata": {
    "collapsed": false
   },
   "outputs": [],
   "source": [
    "data=sio.loadmat(\"./features_2015.mat\")"
   ]
  },
  {
   "cell_type": "code",
   "execution_count": 34,
   "metadata": {
    "collapsed": false
   },
   "outputs": [],
   "source": [
    "pdata=data['pdata']"
   ]
  },
  {
   "cell_type": "code",
   "execution_count": 35,
   "metadata": {
    "collapsed": false
   },
   "outputs": [],
   "source": [
    "material=pdata[:,3]"
   ]
  },
  {
   "cell_type": "code",
   "execution_count": 36,
   "metadata": {
    "collapsed": false
   },
   "outputs": [],
   "source": [
    "pdata_AC=pdata[material==2]"
   ]
  },
  {
   "cell_type": "code",
   "execution_count": 37,
   "metadata": {
    "collapsed": true
   },
   "outputs": [],
   "source": [
    "pdata_AC=pdata_AC[:,(0,1,6)]"
   ]
  },
  {
   "cell_type": "code",
   "execution_count": 38,
   "metadata": {
    "collapsed": false
   },
   "outputs": [
    {
     "data": {
      "text/plain": [
       "(178007, 3)"
      ]
     },
     "execution_count": 38,
     "metadata": {},
     "output_type": "execute_result"
    }
   ],
   "source": [
    "pdata_AC.shape"
   ]
  },
  {
   "cell_type": "code",
   "execution_count": 39,
   "metadata": {
    "collapsed": false
   },
   "outputs": [],
   "source": [
    "#pdata_AC=pdata_AC.astype(np.int32)"
   ]
  },
  {
   "cell_type": "code",
   "execution_count": 40,
   "metadata": {
    "collapsed": true
   },
   "outputs": [],
   "source": [
    "AC=pd.DataFrame(pdata_AC, columns=['sgan','laid_year','length'])"
   ]
  },
  {
   "cell_type": "code",
   "execution_count": 41,
   "metadata": {
    "collapsed": false
   },
   "outputs": [
    {
     "data": {
      "text/html": [
       "<div>\n",
       "<table border=\"1\" class=\"dataframe\">\n",
       "  <thead>\n",
       "    <tr style=\"text-align: right;\">\n",
       "      <th></th>\n",
       "      <th>sgan</th>\n",
       "      <th>laid_year</th>\n",
       "      <th>length</th>\n",
       "    </tr>\n",
       "  </thead>\n",
       "  <tbody>\n",
       "    <tr>\n",
       "      <th>0</th>\n",
       "      <td>2905098.0</td>\n",
       "      <td>1974.0</td>\n",
       "      <td>183.779848</td>\n",
       "    </tr>\n",
       "    <tr>\n",
       "      <th>1</th>\n",
       "      <td>9260735.0</td>\n",
       "      <td>1952.0</td>\n",
       "      <td>115.644669</td>\n",
       "    </tr>\n",
       "    <tr>\n",
       "      <th>2</th>\n",
       "      <td>9260774.0</td>\n",
       "      <td>1963.0</td>\n",
       "      <td>11.702646</td>\n",
       "    </tr>\n",
       "    <tr>\n",
       "      <th>3</th>\n",
       "      <td>2470112.0</td>\n",
       "      <td>1953.0</td>\n",
       "      <td>183.648820</td>\n",
       "    </tr>\n",
       "    <tr>\n",
       "      <th>4</th>\n",
       "      <td>2467340.0</td>\n",
       "      <td>1947.0</td>\n",
       "      <td>185.633048</td>\n",
       "    </tr>\n",
       "  </tbody>\n",
       "</table>\n",
       "</div>"
      ],
      "text/plain": [
       "        sgan  laid_year      length\n",
       "0  2905098.0     1974.0  183.779848\n",
       "1  9260735.0     1952.0  115.644669\n",
       "2  9260774.0     1963.0   11.702646\n",
       "3  2470112.0     1953.0  183.648820\n",
       "4  2467340.0     1947.0  185.633048"
      ]
     },
     "execution_count": 41,
     "metadata": {},
     "output_type": "execute_result"
    }
   ],
   "source": [
    "AC.head()"
   ]
  },
  {
   "cell_type": "code",
   "execution_count": 42,
   "metadata": {
    "collapsed": false
   },
   "outputs": [
    {
     "data": {
      "text/plain": [
       "(178007, 3)"
      ]
     },
     "execution_count": 42,
     "metadata": {},
     "output_type": "execute_result"
    }
   ],
   "source": [
    "AC.shape"
   ]
  },
  {
   "cell_type": "code",
   "execution_count": null,
   "metadata": {
    "collapsed": true
   },
   "outputs": [],
   "source": []
  },
  {
   "cell_type": "code",
   "execution_count": 43,
   "metadata": {
    "collapsed": true
   },
   "outputs": [],
   "source": [
    "faildata=sio.loadmat(\"./pfail1512.mat\")"
   ]
  },
  {
   "cell_type": "code",
   "execution_count": 44,
   "metadata": {
    "collapsed": false
   },
   "outputs": [],
   "source": [
    "fail=pd.DataFrame(faildata['pfail1512'][:,(0,3)],columns=['sgan','fail_year'])"
   ]
  },
  {
   "cell_type": "code",
   "execution_count": 45,
   "metadata": {
    "collapsed": false
   },
   "outputs": [
    {
     "data": {
      "text/html": [
       "<div>\n",
       "<table border=\"1\" class=\"dataframe\">\n",
       "  <thead>\n",
       "    <tr style=\"text-align: right;\">\n",
       "      <th></th>\n",
       "      <th>sgan</th>\n",
       "      <th>fail_year</th>\n",
       "    </tr>\n",
       "  </thead>\n",
       "  <tbody>\n",
       "    <tr>\n",
       "      <th>0</th>\n",
       "      <td>2614254</td>\n",
       "      <td>2000</td>\n",
       "    </tr>\n",
       "    <tr>\n",
       "      <th>1</th>\n",
       "      <td>2482317</td>\n",
       "      <td>2000</td>\n",
       "    </tr>\n",
       "    <tr>\n",
       "      <th>2</th>\n",
       "      <td>2617953</td>\n",
       "      <td>2000</td>\n",
       "    </tr>\n",
       "    <tr>\n",
       "      <th>3</th>\n",
       "      <td>2464350</td>\n",
       "      <td>2000</td>\n",
       "    </tr>\n",
       "    <tr>\n",
       "      <th>4</th>\n",
       "      <td>2520542</td>\n",
       "      <td>2000</td>\n",
       "    </tr>\n",
       "  </tbody>\n",
       "</table>\n",
       "</div>"
      ],
      "text/plain": [
       "      sgan  fail_year\n",
       "0  2614254       2000\n",
       "1  2482317       2000\n",
       "2  2617953       2000\n",
       "3  2464350       2000\n",
       "4  2520542       2000"
      ]
     },
     "execution_count": 45,
     "metadata": {},
     "output_type": "execute_result"
    }
   ],
   "source": [
    "fail.head()"
   ]
  },
  {
   "cell_type": "code",
   "execution_count": null,
   "metadata": {
    "collapsed": true
   },
   "outputs": [],
   "source": []
  },
  {
   "cell_type": "code",
   "execution_count": 46,
   "metadata": {
    "collapsed": false
   },
   "outputs": [],
   "source": [
    "AC_age=pd.DataFrame(np.array(2000-AC['laid_year']),columns=['observe_age'])"
   ]
  },
  {
   "cell_type": "code",
   "execution_count": 47,
   "metadata": {
    "collapsed": true
   },
   "outputs": [],
   "source": [
    "AC_age['age']=np.array(2016-AC['laid_year'])"
   ]
  },
  {
   "cell_type": "code",
   "execution_count": 48,
   "metadata": {
    "collapsed": false
   },
   "outputs": [],
   "source": [
    "AC_age=pd.concat([AC,AC_age],axis=1)"
   ]
  },
  {
   "cell_type": "code",
   "execution_count": 49,
   "metadata": {
    "collapsed": false
   },
   "outputs": [
    {
     "data": {
      "text/html": [
       "<div>\n",
       "<table border=\"1\" class=\"dataframe\">\n",
       "  <thead>\n",
       "    <tr style=\"text-align: right;\">\n",
       "      <th></th>\n",
       "      <th>sgan</th>\n",
       "      <th>laid_year</th>\n",
       "      <th>length</th>\n",
       "      <th>observe_age</th>\n",
       "      <th>age</th>\n",
       "    </tr>\n",
       "  </thead>\n",
       "  <tbody>\n",
       "    <tr>\n",
       "      <th>126463</th>\n",
       "      <td>10726905.0</td>\n",
       "      <td>2014.0</td>\n",
       "      <td>1.499751</td>\n",
       "      <td>-14.0</td>\n",
       "      <td>2.0</td>\n",
       "    </tr>\n",
       "    <tr>\n",
       "      <th>126496</th>\n",
       "      <td>10723871.0</td>\n",
       "      <td>2014.0</td>\n",
       "      <td>1.499802</td>\n",
       "      <td>-14.0</td>\n",
       "      <td>2.0</td>\n",
       "    </tr>\n",
       "    <tr>\n",
       "      <th>71575</th>\n",
       "      <td>10696867.0</td>\n",
       "      <td>2014.0</td>\n",
       "      <td>3.999927</td>\n",
       "      <td>-14.0</td>\n",
       "      <td>2.0</td>\n",
       "    </tr>\n",
       "    <tr>\n",
       "      <th>71576</th>\n",
       "      <td>10696866.0</td>\n",
       "      <td>2014.0</td>\n",
       "      <td>3.998707</td>\n",
       "      <td>-14.0</td>\n",
       "      <td>2.0</td>\n",
       "    </tr>\n",
       "    <tr>\n",
       "      <th>137667</th>\n",
       "      <td>10684080.0</td>\n",
       "      <td>2014.0</td>\n",
       "      <td>4.016837</td>\n",
       "      <td>-14.0</td>\n",
       "      <td>2.0</td>\n",
       "    </tr>\n",
       "  </tbody>\n",
       "</table>\n",
       "</div>"
      ],
      "text/plain": [
       "              sgan  laid_year    length  observe_age  age\n",
       "126463  10726905.0     2014.0  1.499751        -14.0  2.0\n",
       "126496  10723871.0     2014.0  1.499802        -14.0  2.0\n",
       "71575   10696867.0     2014.0  3.999927        -14.0  2.0\n",
       "71576   10696866.0     2014.0  3.998707        -14.0  2.0\n",
       "137667  10684080.0     2014.0  4.016837        -14.0  2.0"
      ]
     },
     "execution_count": 49,
     "metadata": {},
     "output_type": "execute_result"
    }
   ],
   "source": [
    "AC_age.sort_values(by=['age']).head()"
   ]
  },
  {
   "cell_type": "code",
   "execution_count": 50,
   "metadata": {
    "collapsed": false
   },
   "outputs": [
    {
     "data": {
      "text/plain": [
       "(178007, 5)"
      ]
     },
     "execution_count": 50,
     "metadata": {},
     "output_type": "execute_result"
    }
   ],
   "source": [
    "AC_age.shape"
   ]
  },
  {
   "cell_type": "code",
   "execution_count": 51,
   "metadata": {
    "collapsed": false
   },
   "outputs": [],
   "source": [
    "AC_full=pd.merge(fail, AC, how='inner', on=['sgan'])"
   ]
  },
  {
   "cell_type": "code",
   "execution_count": 52,
   "metadata": {
    "collapsed": false
   },
   "outputs": [
    {
     "data": {
      "text/html": [
       "<div>\n",
       "<table border=\"1\" class=\"dataframe\">\n",
       "  <thead>\n",
       "    <tr style=\"text-align: right;\">\n",
       "      <th></th>\n",
       "      <th>sgan</th>\n",
       "      <th>fail_year</th>\n",
       "      <th>laid_year</th>\n",
       "      <th>length</th>\n",
       "    </tr>\n",
       "  </thead>\n",
       "  <tbody>\n",
       "    <tr>\n",
       "      <th>0</th>\n",
       "      <td>2614254</td>\n",
       "      <td>2000</td>\n",
       "      <td>1938.0</td>\n",
       "      <td>62.887588</td>\n",
       "    </tr>\n",
       "    <tr>\n",
       "      <th>1</th>\n",
       "      <td>2614254</td>\n",
       "      <td>2000</td>\n",
       "      <td>1938.0</td>\n",
       "      <td>62.887588</td>\n",
       "    </tr>\n",
       "    <tr>\n",
       "      <th>2</th>\n",
       "      <td>2614254</td>\n",
       "      <td>2013</td>\n",
       "      <td>1938.0</td>\n",
       "      <td>62.887588</td>\n",
       "    </tr>\n",
       "    <tr>\n",
       "      <th>3</th>\n",
       "      <td>2482317</td>\n",
       "      <td>2000</td>\n",
       "      <td>1969.0</td>\n",
       "      <td>197.155122</td>\n",
       "    </tr>\n",
       "    <tr>\n",
       "      <th>4</th>\n",
       "      <td>2482317</td>\n",
       "      <td>2014</td>\n",
       "      <td>1969.0</td>\n",
       "      <td>197.155122</td>\n",
       "    </tr>\n",
       "  </tbody>\n",
       "</table>\n",
       "</div>"
      ],
      "text/plain": [
       "      sgan  fail_year  laid_year      length\n",
       "0  2614254       2000     1938.0   62.887588\n",
       "1  2614254       2000     1938.0   62.887588\n",
       "2  2614254       2013     1938.0   62.887588\n",
       "3  2482317       2000     1969.0  197.155122\n",
       "4  2482317       2014     1969.0  197.155122"
      ]
     },
     "execution_count": 52,
     "metadata": {},
     "output_type": "execute_result"
    }
   ],
   "source": [
    "AC_full.head()"
   ]
  },
  {
   "cell_type": "code",
   "execution_count": 53,
   "metadata": {
    "collapsed": true
   },
   "outputs": [],
   "source": [
    "AC_full['fail_age']=AC_full['fail_year']-AC_full['laid_year']"
   ]
  },
  {
   "cell_type": "code",
   "execution_count": 54,
   "metadata": {
    "collapsed": false
   },
   "outputs": [],
   "source": [
    "fail_age_negtive=AC_full.ix[AC_full['fail_age']<0,:]"
   ]
  },
  {
   "cell_type": "code",
   "execution_count": 55,
   "metadata": {
    "collapsed": false
   },
   "outputs": [],
   "source": [
    "AC_full.ix[AC_full['fail_age']<0,'fail_age']=0"
   ]
  },
  {
   "cell_type": "code",
   "execution_count": 56,
   "metadata": {
    "collapsed": false
   },
   "outputs": [
    {
     "data": {
      "text/html": [
       "<div>\n",
       "<table border=\"1\" class=\"dataframe\">\n",
       "  <thead>\n",
       "    <tr style=\"text-align: right;\">\n",
       "      <th></th>\n",
       "      <th>sgan</th>\n",
       "      <th>fail_year</th>\n",
       "      <th>laid_year</th>\n",
       "      <th>length</th>\n",
       "      <th>fail_age</th>\n",
       "    </tr>\n",
       "  </thead>\n",
       "  <tbody>\n",
       "    <tr>\n",
       "      <th>51634</th>\n",
       "      <td>9253285</td>\n",
       "      <td>2007</td>\n",
       "      <td>2006.0</td>\n",
       "      <td>49.754216</td>\n",
       "      <td>1.0</td>\n",
       "    </tr>\n",
       "    <tr>\n",
       "      <th>153</th>\n",
       "      <td>2712657</td>\n",
       "      <td>2000</td>\n",
       "      <td>1978.0</td>\n",
       "      <td>173.721659</td>\n",
       "      <td>22.0</td>\n",
       "    </tr>\n",
       "    <tr>\n",
       "      <th>154</th>\n",
       "      <td>2712657</td>\n",
       "      <td>2000</td>\n",
       "      <td>1978.0</td>\n",
       "      <td>173.721659</td>\n",
       "      <td>22.0</td>\n",
       "    </tr>\n",
       "    <tr>\n",
       "      <th>302</th>\n",
       "      <td>2453119</td>\n",
       "      <td>2000</td>\n",
       "      <td>1978.0</td>\n",
       "      <td>258.510630</td>\n",
       "      <td>22.0</td>\n",
       "    </tr>\n",
       "    <tr>\n",
       "      <th>362</th>\n",
       "      <td>2770590</td>\n",
       "      <td>2000</td>\n",
       "      <td>1978.0</td>\n",
       "      <td>40.838082</td>\n",
       "      <td>22.0</td>\n",
       "    </tr>\n",
       "  </tbody>\n",
       "</table>\n",
       "</div>"
      ],
      "text/plain": [
       "          sgan  fail_year  laid_year      length  fail_age\n",
       "51634  9253285       2007     2006.0   49.754216       1.0\n",
       "153    2712657       2000     1978.0  173.721659      22.0\n",
       "154    2712657       2000     1978.0  173.721659      22.0\n",
       "302    2453119       2000     1978.0  258.510630      22.0\n",
       "362    2770590       2000     1978.0   40.838082      22.0"
      ]
     },
     "execution_count": 56,
     "metadata": {},
     "output_type": "execute_result"
    }
   ],
   "source": [
    "AC_full.sort_values(by=['fail_age','laid_year']).head()"
   ]
  },
  {
   "cell_type": "code",
   "execution_count": 57,
   "metadata": {
    "collapsed": false
   },
   "outputs": [
    {
     "data": {
      "text/plain": [
       "(76149, 5)"
      ]
     },
     "execution_count": 57,
     "metadata": {},
     "output_type": "execute_result"
    }
   ],
   "source": [
    "AC_full.shape"
   ]
  },
  {
   "cell_type": "code",
   "execution_count": 58,
   "metadata": {
    "collapsed": false,
    "scrolled": false
   },
   "outputs": [
    {
     "data": {
      "text/plain": [
       "[[22.0, 24, 174.73271625800152, 0.13735264073021569],\n",
       " [23.0, 77, 425.21419865085477, 0.31843784495037164],\n",
       " [24.0, 108, 692.65361337040883, 0.47435993633235229],\n",
       " [25.0, 183, 971.5363923562337, 0.66272138263512681],\n",
       " [26.0, 264, 1186.5590518549775, 0.88521346980709026],\n",
       " [27.0, 341, 1512.234080591104, 1.1107076604066761],\n",
       " [28.0, 380, 1856.7668216680183, 1.3153644840667567],\n",
       " [29.0, 502, 2166.3219433359077, 1.5470936605837857],\n",
       " [30.0, 648, 2556.9571823435317, 1.8005198831559164],\n",
       " [31.0, 783, 2922.4132006601312, 2.0684491410114214],\n",
       " [32.0, 931, 3359.4897245989218, 2.3455745607390108],\n",
       " [33.0, 1004, 3739.3982567344224, 2.6140669573945043],\n",
       " [34.0, 1168, 4083.5474564070732, 2.9000927750123235],\n",
       " [35.0, 1338, 4457.8441638940512, 3.200237856537834],\n",
       " [36.0, 1566, 4852.7528792809071, 3.5229412867261138],\n",
       " [37.0, 1652, 5161.8670638779167, 3.842980524381125],\n",
       " [38.0, 1749, 5558.1854768410358, 4.1576515635696252],\n",
       " [39.0, 1924, 5746.4241117352794, 4.4924684797228949],\n",
       " [40.0, 1953, 5812.1988249187552, 4.8284858904877961],\n",
       " [41.0, 1939, 5797.7486155811621, 5.1629260548628144],\n",
       " [42.0, 2034, 5783.118170097895, 5.5146394281978033],\n",
       " [43.0, 2008, 5719.8826166424005, 5.8656955834688196],\n",
       " [44.0, 2035, 5572.2166268569299, 6.2309003370298566],\n",
       " [45.0, 2009, 5451.6113494315914, 6.5994152349617252],\n",
       " [46.0, 1948, 5312.2855841037299, 6.9661123880344284],\n",
       " [47.0, 1941, 5075.9152136793455, 7.3485064821613557],\n",
       " [48.0, 1830, 5095.8030714218712, 7.7076255404041971],\n",
       " [49.0, 1754, 4784.7276444046192, 8.0742085792635088],\n",
       " [50.0, 1836, 4515.1639584016539, 8.4808383311208342],\n",
       " [51.0, 1564, 4252.1178157331233, 8.8486550445272911],\n",
       " [52.0, 1389, 3944.5653026025939, 9.2007851002988481],\n",
       " [53.0, 1295, 3637.5098769304891, 9.5567978793192001],\n",
       " [54.0, 1223, 3397.5653202414637, 9.916761525261137],\n",
       " [55.0, 1113, 3036.4298837637893, 10.283310414122811],\n",
       " [56.0, 1055, 2694.2373835357557, 10.6748868974895],\n",
       " [57.0, 920, 2387.4707059964999, 11.060231939708983],\n",
       " [58.0, 798, 2159.7668294857281, 11.429716269732708],\n",
       " [59.0, 807, 1961.1475453848032, 11.841210041274337],\n",
       " [60.0, 722, 1883.2693490277002, 12.224585897931673],\n",
       " [61.0, 739, 1896.0605186434477, 12.61434138977047],\n",
       " [62.0, 743, 1812.7994905928649, 13.024204700001766],\n",
       " [63.0, 808, 1856.8332653829179, 13.459354163910888],\n",
       " [64.0, 671, 1831.6139034978803, 13.825697746867194],\n",
       " [65.0, 686, 1538.7674365554094, 14.271509104518248],\n",
       " [66.0, 658, 1503.1351041477121, 14.709260839664564],\n",
       " [67.0, 680, 1513.4460422628283, 15.158566583649529],\n",
       " [68.0, 712, 1499.5408638518861, 15.633378585885385],\n",
       " [69.0, 705, 1482.0744559839841, 16.109063189417625],\n",
       " [70.0, 662, 1486.4830539214736, 16.554409672348317],\n",
       " [71.0, 755, 1568.4145597147108, 17.035787504072431],\n",
       " [72.0, 830, 1704.8500860904069, 17.522633829606761],\n",
       " [73.0, 904, 1917.3271229036854, 17.99412353483293],\n",
       " [74.0, 906, 2083.2806628584617, 18.429014529672234],\n",
       " [75.0, 962, 2202.4508517475833, 18.865800666914151],\n",
       " [76.0, 894, 2262.7715879982466, 19.26089136221092],\n",
       " [77.0, 943, 2299.4315756937985, 19.670992715070472],\n",
       " [78.0, 880, 2206.2505251517118, 20.069859475652652],\n",
       " [79.0, 812, 2171.4609313857691, 20.443801271364261],\n",
       " [80.0, 778, 2053.1073875826387, 20.822739073013317],\n",
       " [81.0, 772, 2037.0218369348738, 21.201723719128665],\n",
       " [82.0, 680, 2012.1456045319433, 21.539671429507298],\n",
       " [83.0, 606, 1975.6216585906648, 21.846410322232487],\n",
       " [84.0, 620, 1959.5260262062197, 22.162813366493328],\n",
       " [85.0, 697, 2008.8999479929303, 22.509769421072534],\n",
       " [86.0, 710, 2055.2641214303098, 22.855223804573324],\n",
       " [87.0, 664, 2040.7568499968238, 23.180593286979342],\n",
       " [88.0, 582, 1922.0570284239168, 23.483393875824117],\n",
       " [89.0, 527, 1809.5829967584475, 23.774621192252283],\n",
       " [90.0, 505, 1647.8855320683172, 24.081074516935679],\n",
       " [91.0, 477, 1527.5416710725945, 24.393340957212274],\n",
       " [92.0, 444, 1416.525017960055, 24.706784062254929],\n",
       " [93.0, 415, 1335.4451691610091, 25.017541860166411],\n",
       " [94.0, 402, 1258.7521740957275, 25.336905757423462],\n",
       " [95.0, 384, 1205.8640685341884, 25.655349610275614],\n",
       " [96.0, 331, 1121.2194702038207, 25.950563891508022],\n",
       " [97.0, 349, 1042.7111147121461, 26.285268293403984],\n",
       " [98.0, 317, 959.25287865565349, 26.615733811989926],\n",
       " [99.0, 314, 920.29648097644588, 26.956928205851828],\n",
       " [100.0, 286, 901.53878429021893, 27.274163587161759],\n",
       " [101.0, 239, 814.94714687781948, 27.567434139633345],\n",
       " [102.0, 189, 729.75363309174782, 27.826425655988341],\n",
       " [103.0, 224, 660.26438776458201, 28.165683692845946],\n",
       " [104.0, 221, 622.03812216243455, 28.520967383870737],\n",
       " [105.0, 203, 621.19047537553718, 28.847759258580787],\n",
       " [106.0, 179, 584.53379653956131, 29.153986205696043],\n",
       " [107.0, 137, 520.07062287403585, 29.417411967456829],\n",
       " [108.0, 177, 491.90536522276392, 29.777237276375434],\n",
       " [109.0, 168, 507.26476730297253, 30.108425268975871],\n",
       " [110.0, 164, 488.43516729093517, 30.444191427890292],\n",
       " [111.0, 142, 485.0972909348007, 30.736916212492492],\n",
       " [112.0, 151, 446.25535809178814, 31.075287499832736],\n",
       " [113.0, 173, 425.81967659720425, 31.48156276024924],\n",
       " [114.0, 137, 408.58880503936524, 31.816863185298331],\n",
       " [115.0, 145, 379.08708504544376, 32.199361048507306],\n",
       " [116.0, 122, 350.62701315828912, 32.547309139845389],\n",
       " [117.0, 115, 315.5377118757026, 32.911766368480237],\n",
       " [118.0, 106, 297.56665174755557, 33.267989081534544],\n",
       " [119.0, 103, 266.18836515373692, 33.654933116224086],\n",
       " [120.0, 103, 240.03565055501369, 34.084036042234629],\n",
       " [121.0, 75, 200.50729993841807, 34.458087261432311],\n",
       " [122.0, 66, 168.95089190968514, 34.848733319905215],\n",
       " [123.0, 53, 146.20062380425153, 35.211248872991789],\n",
       " [124.0, 59, 139.39987575088145, 35.634491717952699],\n",
       " [125.0, 45, 112.46124409958432, 36.034629564197338],\n",
       " [126.0, 21, 63.662977371664489, 36.364491610664345],\n",
       " [127.0, 3, 37.612756286884647, 36.444251785034922],\n",
       " [128.0, 2, 7.0747303266311388, 36.726948072760756],\n",
       " [129.0, 1, 1.1794305931531799, 37.574814836439089]]"
      ]
     },
     "execution_count": 58,
     "metadata": {},
     "output_type": "execute_result"
    },
    {
     "data": {
      "image/png": "[encoded data removed]",
      "text/plain": [
       "<matplotlib.figure.Figure at 0x22c3d185208>"
      ]
     },
     "metadata": {},
     "output_type": "display_data"
    }
   ],
   "source": [
    "def fail_rate_fail_age(material_full, material_age):\n",
    "    fail_rate_res=[]\n",
    "    denominator=0\n",
    "    molecule=0\n",
    "    fail_rate_sum=0\n",
    "    fail_rate_sum_length=0\n",
    "    #rng=list(np.unique(material_full['fail_age']))\n",
    "    rng=list(np.unique(material_full['fail_age'][(material_full['fail_age']<130) & (material_full['fail_age']>20)]))\n",
    "    for i in rng: #i is fail_age\n",
    "        material_full_i = material_full[material_full['fail_age']==i]\n",
    "        material_age_i = material_age[(material_age['observe_age']<=i) & (material_age['age']>=i)]\n",
    "        \n",
    "        #denominator=len(material_age_i)\n",
    "        denominator_length=sum(material_age_i['length'])/1000\n",
    "        \n",
    "        molecule=len(material_full_i)\n",
    "        \n",
    "        fail_rate_sum_length+=molecule/denominator_length\n",
    "        #fail_rate_sum+=molecule/denominator\n",
    "        \n",
    "        #fail_rate_res.append([i, molecule,  denominator, fail_rate_sum])\n",
    "        fail_rate_res.append([i, molecule, denominator_length, fail_rate_sum_length])\n",
    "    fail_rate_res_arr=np.array(fail_rate_res)\n",
    "    fig=plt.figure(figsize=(16,9))\n",
    "    ax1=fig.add_subplot(2,1,1)\n",
    "    ax1.plot(fail_rate_res_arr[:,0],fail_rate_res_arr[:,2],'b-',label='denominator')\n",
    "    ax1.set_xlabel('fail age')\n",
    "    ax1.set_xlim(20,130)\n",
    "    plt.legend(loc='upper left', bbox_to_anchor=(0.03,0.9))\n",
    "    #plt.xticks(rng)\n",
    "    plt.tight_layout\n",
    "    \n",
    "    ax2=fig.add_subplot(2,1,2)\n",
    "    ax2.plot(fail_rate_res_arr[:,0],fail_rate_res_arr[:,3],'r-',label='rate')\n",
    "    ax2.set_xlabel('fail age')\n",
    "    ax2.set_xlim(20,130)\n",
    "    plt.legend(loc='upper left', bbox_to_anchor=(0.03,0.9))\n",
    "    #plt.xticks(rng)\n",
    "    plt.tight_layout\n",
    "    \n",
    "    \n",
    "    fig.savefig('c:/Users/zhouf/Desktop/sample.png',dpi=600)\n",
    "    return fail_rate_res\n",
    "\n",
    "fail_rate_fail_age(AC_full, AC_age)"
   ]
  },
  {
   "cell_type": "code",
   "execution_count": null,
   "metadata": {
    "collapsed": true
   },
   "outputs": [],
   "source": []
  }
 ],
 "metadata": {
  "anaconda-cloud": {},
  "kernelspec": {
   "display_name": "Python [Root]",
   "language": "python",
   "name": "Python [Root]"
  },
  "language_info": {
   "codemirror_mode": {
    "name": "ipython",
    "version": 3
   },
   "file_extension": ".py",
   "mimetype": "text/x-python",
   "name": "python",
   "nbconvert_exporter": "python",
   "pygments_lexer": "ipython3",
   "version": "3.5.2"
  }
 },
 "nbformat": 4,
 "nbformat_minor": 0
}
