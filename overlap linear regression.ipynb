{
 "cells": [
  {
   "cell_type": "code",
   "execution_count": 19,
   "metadata": {
    "collapsed": true
   },
   "outputs": [],
   "source": [
    "import matplotlib.pyplot as plt\n",
    "import numpy as np\n",
    "from sklearn import linear_model"
   ]
  },
  {
   "cell_type": "code",
   "execution_count": 20,
   "metadata": {
    "collapsed": true
   },
   "outputs": [],
   "source": [
    "failure_data=np.array([[ 45.        ,   0.6847855 ],\n",
    "       [ 46.        ,   0.57886864],\n",
    "       [ 47.        ,   0.74205748],\n",
    "       [ 48.        ,   0.6610974 ],\n",
    "       [ 49.        ,   0.52351303],\n",
    "       [ 50.        ,   0.64967458],\n",
    "       [ 51.        ,   0.62563905],\n",
    "       [ 52.        ,   0.654276  ],\n",
    "       [ 53.        ,   0.59701735],\n",
    "       [ 54.        ,   0.64023317],\n",
    "       [ 55.        ,   0.56308579],\n",
    "       [ 45.        ,   0.68598412],\n",
    "       [ 46.        ,   0.97392456],\n",
    "       [ 47.        ,   0.79027837],\n",
    "       [ 48.        ,   0.7247246 ],\n",
    "       [ 49.        ,   0.60490443],\n",
    "       [ 50.        ,   0.87293968],\n",
    "       [ 51.        ,   0.67834331],\n",
    "       [ 52.        ,   0.62390398],\n",
    "       [ 53.        ,   0.80355505],\n",
    "       [ 54.        ,   0.7246732 ],\n",
    "       [ 55.        ,   0.7518761 ],\n",
    "       [ 45.        ,   0.81958304],\n",
    "       [ 46.        ,   0.8430084 ],\n",
    "       [ 47.        ,   0.85506087],\n",
    "       [ 48.        ,   0.62382712],\n",
    "       [ 49.        ,   0.81951524],\n",
    "       [ 50.        ,   0.7684434 ],\n",
    "       [ 51.        ,   0.61253681],\n",
    "       [ 52.        ,   0.68033588],\n",
    "       [ 53.        ,   0.72540439],\n",
    "       [ 54.        ,   0.73598039],\n",
    "       [ 55.        ,   0.86542047],\n",
    "       [ 45.        ,   0.57090407],\n",
    "       [ 46.        ,   0.60278706],\n",
    "       [ 47.        ,   0.64485764],\n",
    "       [ 48.        ,   0.47662615],\n",
    "       [ 49.        ,   0.65303643],\n",
    "       [ 50.        ,   0.64534695],\n",
    "       [ 51.        ,   0.60817497],\n",
    "       [ 52.        ,   0.50957819],\n",
    "       [ 53.        ,   0.51419329],\n",
    "       [ 54.        ,   0.55742912],\n",
    "       [ 55.        ,   0.57789068],\n",
    "       [ 45.        ,   0.54362832],\n",
    "       [ 46.        ,   0.65838114],\n",
    "       [ 47.        ,   0.68134589],\n",
    "       [ 48.        ,   0.77981516],\n",
    "       [ 49.        ,   0.66600149],\n",
    "       [ 50.        ,   0.76711532],\n",
    "       [ 51.        ,   0.71534435],\n",
    "       [ 52.        ,   0.63168257],\n",
    "       [ 53.        ,   0.78787473],\n",
    "       [ 54.        ,   0.67143287],\n",
    "       [ 55.        ,   0.7456167 ],\n",
    "       [ 45.        ,   0.81616974],\n",
    "       [ 46.        ,   0.62454778],\n",
    "       [ 47.        ,   0.80714883],\n",
    "       [ 48.        ,   0.61500461],\n",
    "       [ 49.        ,   0.73004831],\n",
    "       [ 50.        ,   0.62482283],\n",
    "       [ 51.        ,   0.66513581],\n",
    "       [ 52.        ,   0.60072589],\n",
    "       [ 53.        ,   0.61469506],\n",
    "       [ 54.        ,   0.61840729],\n",
    "       [ 55.        ,   0.59286041]])"
   ]
  },
  {
   "cell_type": "code",
   "execution_count": 59,
   "metadata": {
    "collapsed": true
   },
   "outputs": [],
   "source": [
    "regr = linear_model.LinearRegression(fit_intercept=True, normalize=True, copy_X=True)"
   ]
  },
  {
   "cell_type": "code",
   "execution_count": 54,
   "metadata": {
    "collapsed": true
   },
   "outputs": [],
   "source": [
    "train_x=[]\n",
    "for i in range(5):\n",
    "    train_x.append(failure_data[:,1][11*i:11*i+11])\n",
    "train_x=np.array(train_x)"
   ]
  },
  {
   "cell_type": "code",
   "execution_count": 55,
   "metadata": {
    "collapsed": false
   },
   "outputs": [],
   "source": [
    "train_x=train_x.transpose()"
   ]
  },
  {
   "cell_type": "code",
   "execution_count": 56,
   "metadata": {
    "collapsed": true
   },
   "outputs": [],
   "source": [
    "train_y=failure_data[:,1][11*5:11*5+11]"
   ]
  },
  {
   "cell_type": "code",
   "execution_count": 57,
   "metadata": {
    "collapsed": false
   },
   "outputs": [],
   "source": [
    "train_y=train_y.transpose()"
   ]
  },
  {
   "cell_type": "code",
   "execution_count": 60,
   "metadata": {
    "collapsed": false
   },
   "outputs": [
    {
     "data": {
      "text/plain": [
       "LinearRegression(copy_X=True, fit_intercept=True, n_jobs=1, normalize=True)"
      ]
     },
     "execution_count": 60,
     "metadata": {},
     "output_type": "execute_result"
    }
   ],
   "source": [
    "regr.fit(train_x, train_y)"
   ]
  },
  {
   "cell_type": "code",
   "execution_count": 61,
   "metadata": {
    "collapsed": false
   },
   "outputs": [
    {
     "data": {
      "text/plain": [
       "array([ 0.64002338, -0.25702135,  0.26886889,  0.5272002 , -0.25991401])"
      ]
     },
     "execution_count": 61,
     "metadata": {},
     "output_type": "execute_result"
    }
   ],
   "source": [
    "regr.coef_"
   ]
  },
  {
   "cell_type": "code",
   "execution_count": 71,
   "metadata": {
    "collapsed": false
   },
   "outputs": [
    {
     "data": {
      "text/plain": [
       "array([ 0.76807279,  0.61955788,  0.79065484,  0.57923044,  0.69716931,\n",
       "        0.66495845,  0.65153106,  0.67184514,  0.56297817,  0.666814  ,\n",
       "        0.63675447])"
      ]
     },
     "execution_count": 71,
     "metadata": {},
     "output_type": "execute_result"
    }
   ],
   "source": [
    "regr.predict(train_x)"
   ]
  },
  {
   "cell_type": "code",
   "execution_count": 70,
   "metadata": {
    "collapsed": false
   },
   "outputs": [
    {
     "data": {
      "image/png": "[encoded data removed]",
      "text/plain": [
       "<matplotlib.figure.Figure at 0x154d1f8bcc0>"
      ]
     },
     "metadata": {},
     "output_type": "display_data"
    }
   ],
   "source": [
    "plt.plot(range(45,56), train_y, color='black')\n",
    "plt.plot(range(45,56), regr.predict(train_x), color='blue',linewidth=3)\n",
    "plt.show()"
   ]
  },
  {
   "cell_type": "code",
   "execution_count": null,
   "metadata": {
    "collapsed": true
   },
   "outputs": [],
   "source": []
  },
  {
   "cell_type": "code",
   "execution_count": null,
   "metadata": {
    "collapsed": true
   },
   "outputs": [],
   "source": []
  }
 ],
 "metadata": {
  "kernelspec": {
   "display_name": "Python [default]",
   "language": "python",
   "name": "python3"
  },
  "language_info": {
   "codemirror_mode": {
    "name": "ipython",
    "version": 3
   },
   "file_extension": ".py",
   "mimetype": "text/x-python",
   "name": "python",
   "nbconvert_exporter": "python",
   "pygments_lexer": "ipython3",
   "version": "3.5.2"
  }
 },
 "nbformat": 4,
 "nbformat_minor": 1
}
