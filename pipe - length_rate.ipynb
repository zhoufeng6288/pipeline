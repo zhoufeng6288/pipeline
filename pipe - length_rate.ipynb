{
 "cells": [
  {
   "cell_type": "code",
   "execution_count": 1,
   "metadata": {
    "collapsed": true
   },
   "outputs": [],
   "source": [
    "import numpy as np\n",
    "import pandas as pd\n",
    "import scipy.io as sio\n",
    "import matplotlib.pyplot as plt\n",
    "%matplotlib inline"
   ]
  },
  {
   "cell_type": "code",
   "execution_count": 295,
   "metadata": {
    "collapsed": false
   },
   "outputs": [],
   "source": [
    "data=sio.loadmat(\"./features_2015.mat\")"
   ]
  },
  {
   "cell_type": "code",
   "execution_count": 296,
   "metadata": {
    "collapsed": false
   },
   "outputs": [],
   "source": [
    "pdata=data['pdata']"
   ]
  },
  {
   "cell_type": "code",
   "execution_count": 297,
   "metadata": {
    "collapsed": false
   },
   "outputs": [],
   "source": [
    "material=pdata[:,3]"
   ]
  },
  {
   "cell_type": "code",
   "execution_count": 298,
   "metadata": {
    "collapsed": false
   },
   "outputs": [],
   "source": [
    "pdata_AC=pdata[material==21]"
   ]
  },
  {
   "cell_type": "code",
   "execution_count": 299,
   "metadata": {
    "collapsed": true
   },
   "outputs": [],
   "source": [
    "pdata_AC=pdata_AC[:,(0,1,6)]"
   ]
  },
  {
   "cell_type": "code",
   "execution_count": 300,
   "metadata": {
    "collapsed": false
   },
   "outputs": [
    {
     "data": {
      "text/plain": [
       "(29976, 2)"
      ]
     },
     "execution_count": 300,
     "metadata": {},
     "output_type": "execute_result"
    }
   ],
   "source": [
    "pdata_AC.shape"
   ]
  },
  {
   "cell_type": "code",
   "execution_count": 301,
   "metadata": {
    "collapsed": false
   },
   "outputs": [],
   "source": [
    "pdata_AC=pdata_AC.astype(np.int32)"
   ]
  },
  {
   "cell_type": "code",
   "execution_count": 302,
   "metadata": {
    "collapsed": true
   },
   "outputs": [],
   "source": [
    "faildata=sio.loadmat(\"./pfail1512.mat\")"
   ]
  },
  {
   "cell_type": "code",
   "execution_count": 303,
   "metadata": {
    "collapsed": false
   },
   "outputs": [],
   "source": [
    "fail=pd.DataFrame(faildata['pfail1512'][:,(0,3)],columns=['sgan','fail_year'])"
   ]
  },
  {
   "cell_type": "code",
   "execution_count": 304,
   "metadata": {
    "collapsed": false
   },
   "outputs": [
    {
     "data": {
      "text/html": [
       "<div>\n",
       "<table border=\"1\" class=\"dataframe\">\n",
       "  <thead>\n",
       "    <tr style=\"text-align: right;\">\n",
       "      <th></th>\n",
       "      <th>sgan</th>\n",
       "      <th>fail_year</th>\n",
       "    </tr>\n",
       "  </thead>\n",
       "  <tbody>\n",
       "    <tr>\n",
       "      <th>0</th>\n",
       "      <td>2614254</td>\n",
       "      <td>2000</td>\n",
       "    </tr>\n",
       "    <tr>\n",
       "      <th>1</th>\n",
       "      <td>2482317</td>\n",
       "      <td>2000</td>\n",
       "    </tr>\n",
       "    <tr>\n",
       "      <th>2</th>\n",
       "      <td>2617953</td>\n",
       "      <td>2000</td>\n",
       "    </tr>\n",
       "    <tr>\n",
       "      <th>3</th>\n",
       "      <td>2464350</td>\n",
       "      <td>2000</td>\n",
       "    </tr>\n",
       "    <tr>\n",
       "      <th>4</th>\n",
       "      <td>2520542</td>\n",
       "      <td>2000</td>\n",
       "    </tr>\n",
       "  </tbody>\n",
       "</table>\n",
       "</div>"
      ],
      "text/plain": [
       "      sgan  fail_year\n",
       "0  2614254       2000\n",
       "1  2482317       2000\n",
       "2  2617953       2000\n",
       "3  2464350       2000\n",
       "4  2520542       2000"
      ]
     },
     "execution_count": 304,
     "metadata": {},
     "output_type": "execute_result"
    }
   ],
   "source": [
    "fail.head()"
   ]
  },
  {
   "cell_type": "code",
   "execution_count": 305,
   "metadata": {
    "collapsed": true
   },
   "outputs": [],
   "source": [
    "AC=pd.DataFrame(pdata_AC, columns=['sgan','laid_year'])"
   ]
  },
  {
   "cell_type": "code",
   "execution_count": 306,
   "metadata": {
    "collapsed": false
   },
   "outputs": [
    {
     "data": {
      "text/html": [
       "<div>\n",
       "<table border=\"1\" class=\"dataframe\">\n",
       "  <thead>\n",
       "    <tr style=\"text-align: right;\">\n",
       "      <th></th>\n",
       "      <th>sgan</th>\n",
       "      <th>laid_year</th>\n",
       "    </tr>\n",
       "  </thead>\n",
       "  <tbody>\n",
       "    <tr>\n",
       "      <th>0</th>\n",
       "      <td>2401929</td>\n",
       "      <td>1996</td>\n",
       "    </tr>\n",
       "    <tr>\n",
       "      <th>1</th>\n",
       "      <td>2399205</td>\n",
       "      <td>1996</td>\n",
       "    </tr>\n",
       "    <tr>\n",
       "      <th>2</th>\n",
       "      <td>2401925</td>\n",
       "      <td>1996</td>\n",
       "    </tr>\n",
       "    <tr>\n",
       "      <th>3</th>\n",
       "      <td>2833759</td>\n",
       "      <td>1998</td>\n",
       "    </tr>\n",
       "    <tr>\n",
       "      <th>4</th>\n",
       "      <td>2833763</td>\n",
       "      <td>1998</td>\n",
       "    </tr>\n",
       "  </tbody>\n",
       "</table>\n",
       "</div>"
      ],
      "text/plain": [
       "      sgan  laid_year\n",
       "0  2401929       1996\n",
       "1  2399205       1996\n",
       "2  2401925       1996\n",
       "3  2833759       1998\n",
       "4  2833763       1998"
      ]
     },
     "execution_count": 306,
     "metadata": {},
     "output_type": "execute_result"
    }
   ],
   "source": [
    "AC.head()"
   ]
  },
  {
   "cell_type": "code",
   "execution_count": 307,
   "metadata": {
    "collapsed": false
   },
   "outputs": [
    {
     "data": {
      "text/plain": [
       "(29976, 2)"
      ]
     },
     "execution_count": 307,
     "metadata": {},
     "output_type": "execute_result"
    }
   ],
   "source": [
    "AC.shape"
   ]
  },
  {
   "cell_type": "code",
   "execution_count": 308,
   "metadata": {
    "collapsed": false
   },
   "outputs": [],
   "source": [
    "AC_age=pd.DataFrame(np.array(2000-AC['laid_year']),columns=['observe_age'])"
   ]
  },
  {
   "cell_type": "code",
   "execution_count": 309,
   "metadata": {
    "collapsed": true
   },
   "outputs": [],
   "source": [
    "AC_age['age']=np.array(2016-AC['laid_year'])"
   ]
  },
  {
   "cell_type": "code",
   "execution_count": 310,
   "metadata": {
    "collapsed": false
   },
   "outputs": [],
   "source": [
    "AC_age=pd.concat([AC,AC_age],axis=1)"
   ]
  },
  {
   "cell_type": "code",
   "execution_count": 311,
   "metadata": {
    "collapsed": false
   },
   "outputs": [
    {
     "data": {
      "text/html": [
       "<div>\n",
       "<table border=\"1\" class=\"dataframe\">\n",
       "  <thead>\n",
       "    <tr style=\"text-align: right;\">\n",
       "      <th></th>\n",
       "      <th>sgan</th>\n",
       "      <th>laid_year</th>\n",
       "      <th>observe_age</th>\n",
       "      <th>age</th>\n",
       "    </tr>\n",
       "  </thead>\n",
       "  <tbody>\n",
       "    <tr>\n",
       "      <th>28395</th>\n",
       "      <td>10695098</td>\n",
       "      <td>2014</td>\n",
       "      <td>-14</td>\n",
       "      <td>2</td>\n",
       "    </tr>\n",
       "    <tr>\n",
       "      <th>17107</th>\n",
       "      <td>10707395</td>\n",
       "      <td>2014</td>\n",
       "      <td>-14</td>\n",
       "      <td>2</td>\n",
       "    </tr>\n",
       "    <tr>\n",
       "      <th>29395</th>\n",
       "      <td>10766687</td>\n",
       "      <td>2014</td>\n",
       "      <td>-14</td>\n",
       "      <td>2</td>\n",
       "    </tr>\n",
       "    <tr>\n",
       "      <th>17109</th>\n",
       "      <td>10707399</td>\n",
       "      <td>2014</td>\n",
       "      <td>-14</td>\n",
       "      <td>2</td>\n",
       "    </tr>\n",
       "    <tr>\n",
       "      <th>17110</th>\n",
       "      <td>10707384</td>\n",
       "      <td>2014</td>\n",
       "      <td>-14</td>\n",
       "      <td>2</td>\n",
       "    </tr>\n",
       "    <tr>\n",
       "      <th>17512</th>\n",
       "      <td>10696546</td>\n",
       "      <td>2014</td>\n",
       "      <td>-14</td>\n",
       "      <td>2</td>\n",
       "    </tr>\n",
       "    <tr>\n",
       "      <th>17513</th>\n",
       "      <td>10696696</td>\n",
       "      <td>2014</td>\n",
       "      <td>-14</td>\n",
       "      <td>2</td>\n",
       "    </tr>\n",
       "    <tr>\n",
       "      <th>17514</th>\n",
       "      <td>10696678</td>\n",
       "      <td>2014</td>\n",
       "      <td>-14</td>\n",
       "      <td>2</td>\n",
       "    </tr>\n",
       "    <tr>\n",
       "      <th>24100</th>\n",
       "      <td>10675830</td>\n",
       "      <td>2014</td>\n",
       "      <td>-14</td>\n",
       "      <td>2</td>\n",
       "    </tr>\n",
       "    <tr>\n",
       "      <th>24104</th>\n",
       "      <td>10696442</td>\n",
       "      <td>2014</td>\n",
       "      <td>-14</td>\n",
       "      <td>2</td>\n",
       "    </tr>\n",
       "    <tr>\n",
       "      <th>24109</th>\n",
       "      <td>10696438</td>\n",
       "      <td>2014</td>\n",
       "      <td>-14</td>\n",
       "      <td>2</td>\n",
       "    </tr>\n",
       "    <tr>\n",
       "      <th>24293</th>\n",
       "      <td>10754121</td>\n",
       "      <td>2014</td>\n",
       "      <td>-14</td>\n",
       "      <td>2</td>\n",
       "    </tr>\n",
       "    <tr>\n",
       "      <th>24294</th>\n",
       "      <td>10754195</td>\n",
       "      <td>2014</td>\n",
       "      <td>-14</td>\n",
       "      <td>2</td>\n",
       "    </tr>\n",
       "    <tr>\n",
       "      <th>18149</th>\n",
       "      <td>10691983</td>\n",
       "      <td>2014</td>\n",
       "      <td>-14</td>\n",
       "      <td>2</td>\n",
       "    </tr>\n",
       "    <tr>\n",
       "      <th>20459</th>\n",
       "      <td>10746645</td>\n",
       "      <td>2014</td>\n",
       "      <td>-14</td>\n",
       "      <td>2</td>\n",
       "    </tr>\n",
       "    <tr>\n",
       "      <th>20458</th>\n",
       "      <td>10746597</td>\n",
       "      <td>2014</td>\n",
       "      <td>-14</td>\n",
       "      <td>2</td>\n",
       "    </tr>\n",
       "    <tr>\n",
       "      <th>20457</th>\n",
       "      <td>10746594</td>\n",
       "      <td>2014</td>\n",
       "      <td>-14</td>\n",
       "      <td>2</td>\n",
       "    </tr>\n",
       "    <tr>\n",
       "      <th>20456</th>\n",
       "      <td>10746642</td>\n",
       "      <td>2014</td>\n",
       "      <td>-14</td>\n",
       "      <td>2</td>\n",
       "    </tr>\n",
       "    <tr>\n",
       "      <th>20455</th>\n",
       "      <td>10746603</td>\n",
       "      <td>2014</td>\n",
       "      <td>-14</td>\n",
       "      <td>2</td>\n",
       "    </tr>\n",
       "    <tr>\n",
       "      <th>20451</th>\n",
       "      <td>10746613</td>\n",
       "      <td>2014</td>\n",
       "      <td>-14</td>\n",
       "      <td>2</td>\n",
       "    </tr>\n",
       "    <tr>\n",
       "      <th>17106</th>\n",
       "      <td>10707391</td>\n",
       "      <td>2014</td>\n",
       "      <td>-14</td>\n",
       "      <td>2</td>\n",
       "    </tr>\n",
       "    <tr>\n",
       "      <th>17105</th>\n",
       "      <td>10707385</td>\n",
       "      <td>2014</td>\n",
       "      <td>-14</td>\n",
       "      <td>2</td>\n",
       "    </tr>\n",
       "    <tr>\n",
       "      <th>17104</th>\n",
       "      <td>10707387</td>\n",
       "      <td>2014</td>\n",
       "      <td>-14</td>\n",
       "      <td>2</td>\n",
       "    </tr>\n",
       "    <tr>\n",
       "      <th>11202</th>\n",
       "      <td>10778315</td>\n",
       "      <td>2014</td>\n",
       "      <td>-14</td>\n",
       "      <td>2</td>\n",
       "    </tr>\n",
       "    <tr>\n",
       "      <th>12378</th>\n",
       "      <td>10710316</td>\n",
       "      <td>2014</td>\n",
       "      <td>-14</td>\n",
       "      <td>2</td>\n",
       "    </tr>\n",
       "    <tr>\n",
       "      <th>29752</th>\n",
       "      <td>10732698</td>\n",
       "      <td>2014</td>\n",
       "      <td>-14</td>\n",
       "      <td>2</td>\n",
       "    </tr>\n",
       "    <tr>\n",
       "      <th>12377</th>\n",
       "      <td>10706190</td>\n",
       "      <td>2014</td>\n",
       "      <td>-14</td>\n",
       "      <td>2</td>\n",
       "    </tr>\n",
       "    <tr>\n",
       "      <th>20934</th>\n",
       "      <td>10701221</td>\n",
       "      <td>2014</td>\n",
       "      <td>-14</td>\n",
       "      <td>2</td>\n",
       "    </tr>\n",
       "    <tr>\n",
       "      <th>12301</th>\n",
       "      <td>10679471</td>\n",
       "      <td>2014</td>\n",
       "      <td>-14</td>\n",
       "      <td>2</td>\n",
       "    </tr>\n",
       "    <tr>\n",
       "      <th>12300</th>\n",
       "      <td>10679474</td>\n",
       "      <td>2014</td>\n",
       "      <td>-14</td>\n",
       "      <td>2</td>\n",
       "    </tr>\n",
       "    <tr>\n",
       "      <th>...</th>\n",
       "      <td>...</td>\n",
       "      <td>...</td>\n",
       "      <td>...</td>\n",
       "      <td>...</td>\n",
       "    </tr>\n",
       "    <tr>\n",
       "      <th>23751</th>\n",
       "      <td>2889157</td>\n",
       "      <td>1979</td>\n",
       "      <td>21</td>\n",
       "      <td>37</td>\n",
       "    </tr>\n",
       "    <tr>\n",
       "      <th>23750</th>\n",
       "      <td>2859639</td>\n",
       "      <td>1979</td>\n",
       "      <td>21</td>\n",
       "      <td>37</td>\n",
       "    </tr>\n",
       "    <tr>\n",
       "      <th>19545</th>\n",
       "      <td>2547037</td>\n",
       "      <td>1979</td>\n",
       "      <td>21</td>\n",
       "      <td>37</td>\n",
       "    </tr>\n",
       "    <tr>\n",
       "      <th>19543</th>\n",
       "      <td>2544149</td>\n",
       "      <td>1979</td>\n",
       "      <td>21</td>\n",
       "      <td>37</td>\n",
       "    </tr>\n",
       "    <tr>\n",
       "      <th>16926</th>\n",
       "      <td>2542599</td>\n",
       "      <td>1979</td>\n",
       "      <td>21</td>\n",
       "      <td>37</td>\n",
       "    </tr>\n",
       "    <tr>\n",
       "      <th>16924</th>\n",
       "      <td>2543135</td>\n",
       "      <td>1979</td>\n",
       "      <td>21</td>\n",
       "      <td>37</td>\n",
       "    </tr>\n",
       "    <tr>\n",
       "      <th>16923</th>\n",
       "      <td>2545867</td>\n",
       "      <td>1979</td>\n",
       "      <td>21</td>\n",
       "      <td>37</td>\n",
       "    </tr>\n",
       "    <tr>\n",
       "      <th>16922</th>\n",
       "      <td>2545863</td>\n",
       "      <td>1979</td>\n",
       "      <td>21</td>\n",
       "      <td>37</td>\n",
       "    </tr>\n",
       "    <tr>\n",
       "      <th>19544</th>\n",
       "      <td>2544153</td>\n",
       "      <td>1979</td>\n",
       "      <td>21</td>\n",
       "      <td>37</td>\n",
       "    </tr>\n",
       "    <tr>\n",
       "      <th>23753</th>\n",
       "      <td>2862359</td>\n",
       "      <td>1979</td>\n",
       "      <td>21</td>\n",
       "      <td>37</td>\n",
       "    </tr>\n",
       "    <tr>\n",
       "      <th>516</th>\n",
       "      <td>8323944</td>\n",
       "      <td>1978</td>\n",
       "      <td>22</td>\n",
       "      <td>38</td>\n",
       "    </tr>\n",
       "    <tr>\n",
       "      <th>1848</th>\n",
       "      <td>8323965</td>\n",
       "      <td>1978</td>\n",
       "      <td>22</td>\n",
       "      <td>38</td>\n",
       "    </tr>\n",
       "    <tr>\n",
       "      <th>18433</th>\n",
       "      <td>2505123</td>\n",
       "      <td>1978</td>\n",
       "      <td>22</td>\n",
       "      <td>38</td>\n",
       "    </tr>\n",
       "    <tr>\n",
       "      <th>2383</th>\n",
       "      <td>8363545</td>\n",
       "      <td>1978</td>\n",
       "      <td>22</td>\n",
       "      <td>38</td>\n",
       "    </tr>\n",
       "    <tr>\n",
       "      <th>23281</th>\n",
       "      <td>2618361</td>\n",
       "      <td>1976</td>\n",
       "      <td>24</td>\n",
       "      <td>40</td>\n",
       "    </tr>\n",
       "    <tr>\n",
       "      <th>5532</th>\n",
       "      <td>2400054</td>\n",
       "      <td>1975</td>\n",
       "      <td>25</td>\n",
       "      <td>41</td>\n",
       "    </tr>\n",
       "    <tr>\n",
       "      <th>5533</th>\n",
       "      <td>8461744</td>\n",
       "      <td>1975</td>\n",
       "      <td>25</td>\n",
       "      <td>41</td>\n",
       "    </tr>\n",
       "    <tr>\n",
       "      <th>5537</th>\n",
       "      <td>2402786</td>\n",
       "      <td>1975</td>\n",
       "      <td>25</td>\n",
       "      <td>41</td>\n",
       "    </tr>\n",
       "    <tr>\n",
       "      <th>5538</th>\n",
       "      <td>2400050</td>\n",
       "      <td>1975</td>\n",
       "      <td>25</td>\n",
       "      <td>41</td>\n",
       "    </tr>\n",
       "    <tr>\n",
       "      <th>5649</th>\n",
       "      <td>2402778</td>\n",
       "      <td>1975</td>\n",
       "      <td>25</td>\n",
       "      <td>41</td>\n",
       "    </tr>\n",
       "    <tr>\n",
       "      <th>10247</th>\n",
       "      <td>2421729</td>\n",
       "      <td>1975</td>\n",
       "      <td>25</td>\n",
       "      <td>41</td>\n",
       "    </tr>\n",
       "    <tr>\n",
       "      <th>10248</th>\n",
       "      <td>2418997</td>\n",
       "      <td>1975</td>\n",
       "      <td>25</td>\n",
       "      <td>41</td>\n",
       "    </tr>\n",
       "    <tr>\n",
       "      <th>24211</th>\n",
       "      <td>9011472</td>\n",
       "      <td>1970</td>\n",
       "      <td>30</td>\n",
       "      <td>46</td>\n",
       "    </tr>\n",
       "    <tr>\n",
       "      <th>24210</th>\n",
       "      <td>9011541</td>\n",
       "      <td>1970</td>\n",
       "      <td>30</td>\n",
       "      <td>46</td>\n",
       "    </tr>\n",
       "    <tr>\n",
       "      <th>24012</th>\n",
       "      <td>9344806</td>\n",
       "      <td>1962</td>\n",
       "      <td>38</td>\n",
       "      <td>54</td>\n",
       "    </tr>\n",
       "    <tr>\n",
       "      <th>5030</th>\n",
       "      <td>2862970</td>\n",
       "      <td>1952</td>\n",
       "      <td>48</td>\n",
       "      <td>64</td>\n",
       "    </tr>\n",
       "    <tr>\n",
       "      <th>5029</th>\n",
       "      <td>2503839</td>\n",
       "      <td>1952</td>\n",
       "      <td>48</td>\n",
       "      <td>64</td>\n",
       "    </tr>\n",
       "    <tr>\n",
       "      <th>25754</th>\n",
       "      <td>2921888</td>\n",
       "      <td>1952</td>\n",
       "      <td>48</td>\n",
       "      <td>64</td>\n",
       "    </tr>\n",
       "    <tr>\n",
       "      <th>25755</th>\n",
       "      <td>9215926</td>\n",
       "      <td>1952</td>\n",
       "      <td>48</td>\n",
       "      <td>64</td>\n",
       "    </tr>\n",
       "    <tr>\n",
       "      <th>5031</th>\n",
       "      <td>2862962</td>\n",
       "      <td>1952</td>\n",
       "      <td>48</td>\n",
       "      <td>64</td>\n",
       "    </tr>\n",
       "  </tbody>\n",
       "</table>\n",
       "<p>29976 rows × 4 columns</p>\n",
       "</div>"
      ],
      "text/plain": [
       "           sgan  laid_year  observe_age  age\n",
       "28395  10695098       2014          -14    2\n",
       "17107  10707395       2014          -14    2\n",
       "29395  10766687       2014          -14    2\n",
       "17109  10707399       2014          -14    2\n",
       "17110  10707384       2014          -14    2\n",
       "17512  10696546       2014          -14    2\n",
       "17513  10696696       2014          -14    2\n",
       "17514  10696678       2014          -14    2\n",
       "24100  10675830       2014          -14    2\n",
       "24104  10696442       2014          -14    2\n",
       "24109  10696438       2014          -14    2\n",
       "24293  10754121       2014          -14    2\n",
       "24294  10754195       2014          -14    2\n",
       "18149  10691983       2014          -14    2\n",
       "20459  10746645       2014          -14    2\n",
       "20458  10746597       2014          -14    2\n",
       "20457  10746594       2014          -14    2\n",
       "20456  10746642       2014          -14    2\n",
       "20455  10746603       2014          -14    2\n",
       "20451  10746613       2014          -14    2\n",
       "17106  10707391       2014          -14    2\n",
       "17105  10707385       2014          -14    2\n",
       "17104  10707387       2014          -14    2\n",
       "11202  10778315       2014          -14    2\n",
       "12378  10710316       2014          -14    2\n",
       "29752  10732698       2014          -14    2\n",
       "12377  10706190       2014          -14    2\n",
       "20934  10701221       2014          -14    2\n",
       "12301  10679471       2014          -14    2\n",
       "12300  10679474       2014          -14    2\n",
       "...         ...        ...          ...  ...\n",
       "23751   2889157       1979           21   37\n",
       "23750   2859639       1979           21   37\n",
       "19545   2547037       1979           21   37\n",
       "19543   2544149       1979           21   37\n",
       "16926   2542599       1979           21   37\n",
       "16924   2543135       1979           21   37\n",
       "16923   2545867       1979           21   37\n",
       "16922   2545863       1979           21   37\n",
       "19544   2544153       1979           21   37\n",
       "23753   2862359       1979           21   37\n",
       "516     8323944       1978           22   38\n",
       "1848    8323965       1978           22   38\n",
       "18433   2505123       1978           22   38\n",
       "2383    8363545       1978           22   38\n",
       "23281   2618361       1976           24   40\n",
       "5532    2400054       1975           25   41\n",
       "5533    8461744       1975           25   41\n",
       "5537    2402786       1975           25   41\n",
       "5538    2400050       1975           25   41\n",
       "5649    2402778       1975           25   41\n",
       "10247   2421729       1975           25   41\n",
       "10248   2418997       1975           25   41\n",
       "24211   9011472       1970           30   46\n",
       "24210   9011541       1970           30   46\n",
       "24012   9344806       1962           38   54\n",
       "5030    2862970       1952           48   64\n",
       "5029    2503839       1952           48   64\n",
       "25754   2921888       1952           48   64\n",
       "25755   9215926       1952           48   64\n",
       "5031    2862962       1952           48   64\n",
       "\n",
       "[29976 rows x 4 columns]"
      ]
     },
     "execution_count": 311,
     "metadata": {},
     "output_type": "execute_result"
    }
   ],
   "source": [
    "AC_age.sort_values(by=['age'])"
   ]
  },
  {
   "cell_type": "code",
   "execution_count": 312,
   "metadata": {
    "collapsed": false
   },
   "outputs": [
    {
     "data": {
      "text/plain": [
       "(29976, 4)"
      ]
     },
     "execution_count": 312,
     "metadata": {},
     "output_type": "execute_result"
    }
   ],
   "source": [
    "AC_age.shape"
   ]
  },
  {
   "cell_type": "code",
   "execution_count": 313,
   "metadata": {
    "collapsed": false
   },
   "outputs": [],
   "source": [
    "AC_full=pd.merge(fail, AC, how='inner', on=['sgan'])"
   ]
  },
  {
   "cell_type": "code",
   "execution_count": 314,
   "metadata": {
    "collapsed": false
   },
   "outputs": [
    {
     "data": {
      "text/html": [
       "<div>\n",
       "<table border=\"1\" class=\"dataframe\">\n",
       "  <thead>\n",
       "    <tr style=\"text-align: right;\">\n",
       "      <th></th>\n",
       "      <th>sgan</th>\n",
       "      <th>fail_year</th>\n",
       "      <th>laid_year</th>\n",
       "    </tr>\n",
       "  </thead>\n",
       "  <tbody>\n",
       "    <tr>\n",
       "      <th>0</th>\n",
       "      <td>2832239</td>\n",
       "      <td>2000</td>\n",
       "      <td>1999</td>\n",
       "    </tr>\n",
       "    <tr>\n",
       "      <th>1</th>\n",
       "      <td>2847920</td>\n",
       "      <td>2000</td>\n",
       "      <td>2000</td>\n",
       "    </tr>\n",
       "    <tr>\n",
       "      <th>2</th>\n",
       "      <td>2847554</td>\n",
       "      <td>2000</td>\n",
       "      <td>1999</td>\n",
       "    </tr>\n",
       "    <tr>\n",
       "      <th>3</th>\n",
       "      <td>2420265</td>\n",
       "      <td>2001</td>\n",
       "      <td>1992</td>\n",
       "    </tr>\n",
       "    <tr>\n",
       "      <th>4</th>\n",
       "      <td>2420265</td>\n",
       "      <td>2011</td>\n",
       "      <td>1992</td>\n",
       "    </tr>\n",
       "  </tbody>\n",
       "</table>\n",
       "</div>"
      ],
      "text/plain": [
       "      sgan  fail_year  laid_year\n",
       "0  2832239       2000       1999\n",
       "1  2847920       2000       2000\n",
       "2  2847554       2000       1999\n",
       "3  2420265       2001       1992\n",
       "4  2420265       2011       1992"
      ]
     },
     "execution_count": 314,
     "metadata": {},
     "output_type": "execute_result"
    }
   ],
   "source": [
    "AC_full.head()"
   ]
  },
  {
   "cell_type": "code",
   "execution_count": 315,
   "metadata": {
    "collapsed": true
   },
   "outputs": [],
   "source": [
    "AC_full['fail_age']=AC_full['fail_year']-AC_full['laid_year']"
   ]
  },
  {
   "cell_type": "code",
   "execution_count": 316,
   "metadata": {
    "collapsed": false
   },
   "outputs": [],
   "source": [
    "fail_age_negtive=AC_full.ix[AC_full['fail_age']<0,:]"
   ]
  },
  {
   "cell_type": "code",
   "execution_count": 317,
   "metadata": {
    "collapsed": false
   },
   "outputs": [],
   "source": [
    "AC_full.ix[AC_full['fail_age']<0,'fail_age']=0"
   ]
  },
  {
   "cell_type": "code",
   "execution_count": 318,
   "metadata": {
    "collapsed": false
   },
   "outputs": [
    {
     "data": {
      "text/html": [
       "<div>\n",
       "<table border=\"1\" class=\"dataframe\">\n",
       "  <thead>\n",
       "    <tr style=\"text-align: right;\">\n",
       "      <th></th>\n",
       "      <th>sgan</th>\n",
       "      <th>fail_year</th>\n",
       "      <th>laid_year</th>\n",
       "      <th>fail_age</th>\n",
       "    </tr>\n",
       "  </thead>\n",
       "  <tbody>\n",
       "    <tr>\n",
       "      <th>1</th>\n",
       "      <td>2847920</td>\n",
       "      <td>2000</td>\n",
       "      <td>2000</td>\n",
       "      <td>0</td>\n",
       "    </tr>\n",
       "    <tr>\n",
       "      <th>24</th>\n",
       "      <td>2847912</td>\n",
       "      <td>2000</td>\n",
       "      <td>2000</td>\n",
       "      <td>0</td>\n",
       "    </tr>\n",
       "    <tr>\n",
       "      <th>824</th>\n",
       "      <td>4811870</td>\n",
       "      <td>2000</td>\n",
       "      <td>2000</td>\n",
       "      <td>0</td>\n",
       "    </tr>\n",
       "    <tr>\n",
       "      <th>1189</th>\n",
       "      <td>8138727</td>\n",
       "      <td>2000</td>\n",
       "      <td>2000</td>\n",
       "      <td>0</td>\n",
       "    </tr>\n",
       "    <tr>\n",
       "      <th>1192</th>\n",
       "      <td>4798091</td>\n",
       "      <td>2000</td>\n",
       "      <td>2000</td>\n",
       "      <td>0</td>\n",
       "    </tr>\n",
       "  </tbody>\n",
       "</table>\n",
       "</div>"
      ],
      "text/plain": [
       "         sgan  fail_year  laid_year  fail_age\n",
       "1     2847920       2000       2000         0\n",
       "24    2847912       2000       2000         0\n",
       "824   4811870       2000       2000         0\n",
       "1189  8138727       2000       2000         0\n",
       "1192  4798091       2000       2000         0"
      ]
     },
     "execution_count": 318,
     "metadata": {},
     "output_type": "execute_result"
    }
   ],
   "source": [
    "AC_full.sort_values(by=['fail_age','laid_year']).head()"
   ]
  },
  {
   "cell_type": "code",
   "execution_count": 319,
   "metadata": {
    "collapsed": false
   },
   "outputs": [
    {
     "data": {
      "text/plain": [
       "(1668, 4)"
      ]
     },
     "execution_count": 319,
     "metadata": {},
     "output_type": "execute_result"
    }
   ],
   "source": [
    "AC_full.shape"
   ]
  },
  {
   "cell_type": "code",
   "execution_count": 320,
   "metadata": {
    "collapsed": false,
    "scrolled": false
   },
   "outputs": [
    {
     "data": {
      "text/plain": [
       "[[0, 64, 17242, 0.0037118663728105787],\n",
       " [1, 108, 19607, 0.00550823685418473],\n",
       " [2, 99, 21368, 0.004633096218644703],\n",
       " [3, 95, 22779, 0.004170507923965056],\n",
       " [4, 72, 23624, 0.0030477480528276328],\n",
       " [5, 75, 24334, 0.0030821073395249443],\n",
       " [6, 84, 25100, 0.003346613545816733],\n",
       " [7, 98, 25882, 0.003786415269299127],\n",
       " [8, 102, 26436, 0.003858374943259192],\n",
       " [9, 145, 26065, 0.005563015538077882],\n",
       " [10, 111, 25420, 0.004366640440597955],\n",
       " [11, 96, 24182, 0.003969894963195765],\n",
       " [12, 83, 22245, 0.003731175545066307],\n",
       " [13, 71, 20439, 0.003473751161994227],\n",
       " [14, 53, 18809, 0.0028177999893667927],\n",
       " [15, 55, 16769, 0.0032798616494722405],\n",
       " [16, 47, 14830, 0.003169251517194875],\n",
       " [17, 46, 12689, 0.003625187169989755],\n",
       " [18, 48, 10324, 0.004649360712901976],\n",
       " [19, 34, 8563, 0.003970571061543852],\n",
       " [20, 21, 6930, 0.0030303030303030303],\n",
       " [21, 25, 5612, 0.004454739843193158],\n",
       " [22, 12, 4358, 0.0027535566773749425],\n",
       " [23, 10, 3111, 0.0032144005143040825],\n",
       " [24, 4, 1958, 0.0020429009193054137],\n",
       " [25, 2, 1000, 0.002],\n",
       " [26, 2, 504, 0.003968253968253968],\n",
       " [28, 2, 164, 0.012195121951219513],\n",
       " [35, 1, 39, 0.02564102564102564],\n",
       " [36, 1, 39, 0.02564102564102564],\n",
       " [38, 1, 15, 0.06666666666666667],\n",
       " [40, 1, 11, 0.09090909090909091]]"
      ]
     },
     "execution_count": 320,
     "metadata": {},
     "output_type": "execute_result"
    },
    {
     "data": {
      "image/png": "[encoded data removed]",
      "text/plain": [
       "<matplotlib.figure.Figure at 0x203afd1ff60>"
      ]
     },
     "metadata": {},
     "output_type": "display_data"
    }
   ],
   "source": [
    "def fail_rate_fail_age(material_full, material_age):\n",
    "    fail_rate_res=[]\n",
    "    rng=list(np.unique(material_full['fail_age']))\n",
    "    for i in rng: #i is fail_age\n",
    "        material_full_i = material_full[material_full['fail_age']==i]\n",
    "        material_age_i = material_age[(material_age['observe_age']<=i) & (material_age['age']>=i)]\n",
    "        fail_rate_res.append([i, len(material_full_i),  len(material_age_i), len(material_full_i)/len(material_age_i)])\n",
    "    fail_rate_res_arr=np.array(fail_rate_res)\n",
    "    fig=plt.figure(figsize=(16,9))\n",
    "    ax1=fig.add_subplot(2,1,1)\n",
    "    ax1.plot(fail_rate_res_arr[:,0],fail_rate_res_arr[:,2],'b-',label='denominator')\n",
    "    ax1.set_xlabel('fail age')\n",
    "    plt.legend(loc='upper left', bbox_to_anchor=(0.03,0.9))\n",
    "    #plt.xticks(rng)\n",
    "    plt.tight_layout\n",
    "    \n",
    "    ax2=fig.add_subplot(2,1,2)\n",
    "    ax2.plot(fail_rate_res_arr[:,0],fail_rate_res_arr[:,3],'r-',label='rate')\n",
    "    ax2.set_xlabel('fail age')\n",
    "    plt.legend(loc='upper left', bbox_to_anchor=(0.03,0.9))\n",
    "    #plt.xticks(rng)\n",
    "    plt.tight_layout\n",
    "    \n",
    "    \n",
    "    fig.savefig('c:/Users/zhouf/Desktop/sample.png',dpi=600)\n",
    "    return fail_rate_res\n",
    "\n",
    "fail_rate_fail_age(AC_full, AC_age)"
   ]
  },
  {
   "cell_type": "code",
   "execution_count": null,
   "metadata": {
    "collapsed": true
   },
   "outputs": [],
   "source": []
  }
 ],
 "metadata": {
  "anaconda-cloud": {},
  "kernelspec": {
   "display_name": "Python [Root]",
   "language": "python",
   "name": "Python [Root]"
  },
  "language_info": {
   "codemirror_mode": {
    "name": "ipython",
    "version": 3
   },
   "file_extension": ".py",
   "mimetype": "text/x-python",
   "name": "python",
   "nbconvert_exporter": "python",
   "pygments_lexer": "ipython3",
   "version": "3.5.2"
  }
 },
 "nbformat": 4,
 "nbformat_minor": 0
}
